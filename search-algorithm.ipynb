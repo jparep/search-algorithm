{
 "cells": [
  {
   "cell_type": "code",
   "execution_count": 2,
   "id": "ae630847",
   "metadata": {},
   "outputs": [],
   "source": [
    "# List of 7 cities on a 100x100 canvas\n",
    "Cities = [(5,60), (14,32), (17,65),(32,28),(47,18),(56,53),(92,81)]"
   ]
  },
  {
   "cell_type": "code",
   "execution_count": 4,
   "id": "c2c9959f",
   "metadata": {},
   "outputs": [],
   "source": [
    "# Candidate solution\n",
    "Trip = [3,2,6,1,0,5,4,3]"
   ]
  },
  {
   "cell_type": "code",
   "execution_count": null,
   "id": "523a2ee5",
   "metadata": {},
   "outputs": [],
   "source": [
    "# Plot the cities\n",
    "import matplotlib.pyplot as plt\n",
    "\n",
    "def plot_TSP(Cities, Trip, tittle=None):"
   ]
  }
 ],
 "metadata": {
  "kernelspec": {
   "display_name": "Python 3 (ipykernel)",
   "language": "python",
   "name": "python3"
  },
  "language_info": {
   "codemirror_mode": {
    "name": "ipython",
    "version": 3
   },
   "file_extension": ".py",
   "mimetype": "text/x-python",
   "name": "python",
   "nbconvert_exporter": "python",
   "pygments_lexer": "ipython3",
   "version": "3.9.13"
  }
 },
 "nbformat": 4,
 "nbformat_minor": 5
}
